{
 "cells": [
  {
   "cell_type": "code",
   "execution_count": null,
   "id": "8ce47f91-39c3-4026-b158-5764a816a02e",
   "metadata": {},
   "outputs": [],
   "source": [
    "# Automatic Execution Metadata\n",
    "import datetime as dt\n",
    "\n",
    "executed_at = dt.datetime.utcnow()\n",
    "print(f\"Last Build Executed at: {executed_at.isoformat()}\")"
   ]
  },
  {
   "cell_type": "markdown",
   "id": "faaa15ba-eb0a-4b36-a07b-b378ed81280c",
   "metadata": {},
   "source": [
    "# Hello World Example\n",
    "\n",
    "The easiest way to implement a hello-world program in Python is the following one-liner:"
   ]
  },
  {
   "cell_type": "code",
   "execution_count": 2,
   "id": "b1fa4d93-48c2-410e-9c0a-299852766951",
   "metadata": {},
   "outputs": [
    {
     "name": "stdout",
     "output_type": "stream",
     "text": [
      "Hello, World!\n"
     ]
    }
   ],
   "source": [
    "print(\"Hello, World!\")"
   ]
  },
  {
   "cell_type": "markdown",
   "id": "e9b99a5c-a928-40e0-970b-36bf3de0884e",
   "metadata": {},
   "source": [
    "**Improvement 1**: Make it a callable to encourage re-executing on-demand."
   ]
  },
  {
   "cell_type": "code",
   "execution_count": 3,
   "id": "30d83ae8-e017-47db-ad22-95d779e6ce39",
   "metadata": {},
   "outputs": [],
   "source": [
    "def hello():\n",
    "    print(\"Hello, World!\")"
   ]
  },
  {
   "cell_type": "code",
   "execution_count": 4,
   "id": "89d4a4f1-d0d7-4288-8e00-17637f027dfa",
   "metadata": {},
   "outputs": [
    {
     "name": "stdout",
     "output_type": "stream",
     "text": [
      "Hello, World!\n"
     ]
    }
   ],
   "source": [
    "hello()"
   ]
  },
  {
   "cell_type": "markdown",
   "id": "d3eccf9e-1c5d-40e4-ae55-86f70f9561b2",
   "metadata": {},
   "source": [
    "As you can notice, now we have 2 different cells:\n",
    "* One cell with the function definition\n",
    "* Another cell with the function execution"
   ]
  },
  {
   "cell_type": "markdown",
   "id": "17843c4e-32eb-4e28-9cb8-9090e7d076b6",
   "metadata": {},
   "source": [
    "**Improvement 2**: Refactor the `hello` function to make it *pure*.\n",
    "\n",
    "What's a pure function? In short, a pure function is one that doesn't have side-effects (e.g., print statements)."
   ]
  },
  {
   "cell_type": "code",
   "execution_count": 5,
   "id": "7f876129-d71e-4345-92ba-c31df16fd730",
   "metadata": {},
   "outputs": [],
   "source": [
    "def hello() -> str:\n",
    "    return \"Hello, World!\""
   ]
  },
  {
   "cell_type": "code",
   "execution_count": 6,
   "id": "9adf9182-806c-4f9e-9aaa-f9a8adb631af",
   "metadata": {},
   "outputs": [
    {
     "name": "stdout",
     "output_type": "stream",
     "text": [
      "Hello, World!\n"
     ]
    }
   ],
   "source": [
    "output = hello()\n",
    "print(output)"
   ]
  },
  {
   "cell_type": "markdown",
   "id": "22321f1c-e58d-4d2a-8d24-24d63249268b",
   "metadata": {},
   "source": [
    "By making the hello-function a pure function, we delegate the execution of side-effects into the main program (and not a function call). This makes our individual functions safer and predictable."
   ]
  },
  {
   "cell_type": "markdown",
   "id": "bb6509c0-bf50-420a-8326-d16aa41e3d9e",
   "metadata": {},
   "source": [
    "**Improvement 3**: Parametrize the target recipient."
   ]
  },
  {
   "cell_type": "code",
   "execution_count": 9,
   "id": "86ffda9a-9227-4439-9287-e8092a1f8893",
   "metadata": {},
   "outputs": [],
   "source": [
    "def hello(recipient: str) -> str:\n",
    "    return f\"Hello, {recipient}!\""
   ]
  },
  {
   "cell_type": "code",
   "execution_count": 10,
   "id": "38ee94e7-ffdb-49ea-be9a-5a8359e60edd",
   "metadata": {},
   "outputs": [
    {
     "name": "stdout",
     "output_type": "stream",
     "text": [
      "Hello, World!\n"
     ]
    }
   ],
   "source": [
    "output = hello(recipient=\"World\")\n",
    "print(output)"
   ]
  },
  {
   "cell_type": "markdown",
   "id": "9750f529-8347-4e75-bc99-51c03bd3bcba",
   "metadata": {},
   "source": [
    "Parametrizing the recipient allows us to re-use the hello function in different scenarios. "
   ]
  },
  {
   "cell_type": "markdown",
   "id": "10c15688-9a54-4635-b012-d35e6784082e",
   "metadata": {},
   "source": [
    "**Improvement 4**: Define a reasonable default value."
   ]
  },
  {
   "cell_type": "code",
   "execution_count": 11,
   "id": "9a7086e6-10d5-4870-9340-74d49b069a35",
   "metadata": {},
   "outputs": [],
   "source": [
    "from typing import Optional\n",
    "\n",
    "def hello(recipient: Optional[str] = None) -> str:\n",
    "    return f\"Hello, {recipient or 'World'}!\""
   ]
  },
  {
   "cell_type": "code",
   "execution_count": 12,
   "id": "4df46605-3616-4c02-853f-8108fbf2bd5b",
   "metadata": {},
   "outputs": [
    {
     "name": "stdout",
     "output_type": "stream",
     "text": [
      "Hello, World!\n"
     ]
    }
   ],
   "source": [
    "print(hello())"
   ]
  },
  {
   "cell_type": "code",
   "execution_count": 13,
   "id": "e9177fb2-80e9-4c4f-b5d9-a7876845555d",
   "metadata": {},
   "outputs": [
    {
     "name": "stdout",
     "output_type": "stream",
     "text": [
      "Hello, Alice!\n",
      "Hello, Bob!\n"
     ]
    }
   ],
   "source": [
    "print(hello(recipient=\"Alice\"), hello(recipient=\"Bob\"), sep=\"\\n\")"
   ]
  },
  {
   "cell_type": "markdown",
   "id": "d6802e01-2f0b-4415-95a2-a32e31fcbf2b",
   "metadata": {},
   "source": [
    "Adding a resonable default value allows us to run the function and expect getting the default behaviour without having to worry about setting all the parameters."
   ]
  },
  {
   "cell_type": "markdown",
   "id": "a5fd2394-7ca4-423c-9642-ab7d75cca47b",
   "metadata": {},
   "source": [
    "**Improvement 5**: Allow configuring the relevant default values."
   ]
  },
  {
   "cell_type": "code",
   "execution_count": 14,
   "id": "71cde1dd-9d67-4a30-86ed-04379358b9aa",
   "metadata": {},
   "outputs": [],
   "source": [
    "import os\n",
    "from typing import Optional\n",
    "\n",
    "DEFAULT_HELLO_RECIPIENT = os.environ.get(\n",
    "    \"DEFAULT_HELLO_RECIPIENT\",\n",
    "    default=\"World\",\n",
    ")\n",
    "\n",
    "def hello(recipient: Optional[str] = None) -> str:\n",
    "    return f\"Hello, {recipient or DEFAULT_HELLO_RECIPIENT}!\"\n"
   ]
  },
  {
   "cell_type": "code",
   "execution_count": 15,
   "id": "f91f54ed-08ed-4c42-bd6f-a06159239b42",
   "metadata": {},
   "outputs": [
    {
     "name": "stdout",
     "output_type": "stream",
     "text": [
      "Hello, World!\n"
     ]
    }
   ],
   "source": [
    "print(hello())"
   ]
  },
  {
   "cell_type": "code",
   "execution_count": 16,
   "id": "ef2ad961-4a5b-4f95-bf43-986c154328ce",
   "metadata": {},
   "outputs": [
    {
     "name": "stdout",
     "output_type": "stream",
     "text": [
      "Hello, Alice!\n",
      "Hello, Bob!\n"
     ]
    }
   ],
   "source": [
    "print(hello(recipient=\"Alice\"), hello(recipient=\"Bob\"), sep=\"\\n\")"
   ]
  },
  {
   "cell_type": "code",
   "execution_count": null,
   "id": "df49ba26-f443-4101-91c9-9b937a51803f",
   "metadata": {},
   "outputs": [],
   "source": []
  }
 ],
 "metadata": {
  "kernelspec": {
   "display_name": "Python 3 (ipykernel)",
   "language": "python",
   "name": "python3"
  },
  "language_info": {
   "codemirror_mode": {
    "name": "ipython",
    "version": 3
   },
   "file_extension": ".py",
   "mimetype": "text/x-python",
   "name": "python",
   "nbconvert_exporter": "python",
   "pygments_lexer": "ipython3",
   "version": "3.10.12"
  }
 },
 "nbformat": 4,
 "nbformat_minor": 5
}
